{
 "cells": [
  {
   "cell_type": "markdown",
   "metadata": {},
   "source": [
    "Linear Programming\n",
    "A company manufactures two products (G and H) and has two resources (X and Y) available.\n",
    "\n",
    "Each unit of product G requires 3 units of resource X and 8 units of resource Y\n",
    "Each unit of product H requires 6 units of resource X and 4 units of resource Y\n",
    "The company has a maximum of 30 units of resource X and 44 units of resource Y available.\n",
    "The company wants to maximize profits:\n",
    "$100 per unit of product G\n",
    "$125 per unit of product H\n",
    "Linear programming is an optimization method for solving systems of linear constraints and objectives. This problem is mathematically expressed as:\n",
    "\n",
    "\n",
    "Subject to:\n",
    "\n",
    "+\n",
    "where G and H are the number of units of products to be produced, respectively.\n",
    "\n",
    "Scipy Linear Programming\n",
    "The following code shows how to use linear programming to solve this problem in scipy.optimize with the linprog function. The linear programming problem is placed into the following matrix form:\n"
   ]
  },
  {
   "cell_type": "code",
   "execution_count": 1,
   "metadata": {},
   "outputs": [
    {
     "name": "stdout",
     "output_type": "stream",
     "text": [
      "Optimal solution: G = 4.00, H = 3.00\n",
      "Maximum profit = $ 775.00\n"
     ]
    }
   ],
   "source": [
    "from scipy.optimize import linprog\n",
    "c = [-100, -125]\n",
    "A = [[3, 6], [8, 4]]\n",
    "b = [30, 44]\n",
    "bound = (0, None)\n",
    "res = linprog(c, A_ub=A, b_ub=b, bounds=[bound, bound], method='highs')\n",
    "\n",
    "#print solution\n",
    "print(f'Optimal solution: G = {res.x[0]:.2f}, H = {res.x[1]:.2f}')\n",
    "print(f'Maximum profit = $ {-res.fun:.2f}')\n",
    "\n",
    "# from gekko import GEKKO\n",
    "# m = GEKKO()\n",
    "# G,H = m.Array(m.Var,2,lb=0)\n",
    "# m.Maximize(100*G+125*H)\n",
    "# m.Equation(3*G+6*H<=30)\n",
    "# m.Equation(8*G+4*H<=44)\n",
    "# m.solve(disp=False)\n",
    "\n",
    "# #print solution\n",
    "# print(f'Optimal solution: G = {G.value[0]:.2f}, H = {H.value[0]:.2f}')\n",
    "# print(f'Maximum profit = $ {-m.options.objfcnval:.2f}')"
   ]
  },
  {
   "cell_type": "markdown",
   "metadata": {},
   "source": [
    "A car manufacturer wants to minimize the weight of a car while maintaining a minimum strength requirement. The weight of the car is modeled as a quadratic function of the thickness of the car frame components. The strength of the car is modeled as a linear function of the thickness of the car frame components. The manufacturer wants to minimize the weight of the car while maintaining a minimum strength requirement. This problem is formulated as:\n",
    "\n",
    "Minimize \n",
    "12xTQx+px\n",
    "Subject to:\n",
    "\n",
    "Gx>=h\n",
    "where x is the thickness of the car frame components, Q is the quadratic weight coefficient matrix, p is the linear weight coefficient vector, G is the strength coefficient matrix, and h is the strength constraint vector."
   ]
  },
  {
   "cell_type": "code",
   "execution_count": 9,
   "metadata": {},
   "outputs": [
    {
     "name": "stdout",
     "output_type": "stream",
     "text": [
      "Optimal solution: x = [2. 1.]\n",
      "Minimum weight = 7.000000000000006\n"
     ]
    }
   ],
   "source": [
    "import numpy as np\n",
    "from scipy.optimize import minimize \n",
    "\n",
    "#Problem data\n",
    "#Quadratic weight coefficients\n",
    "Q = np.array([[1, 0], [0, 2]])\n",
    "#Linear weight coefficients\n",
    "p = np.array([1, 2])\n",
    "#Strength coefficients\n",
    "G = np.array([[1, 1], [1, 2], [2, 1]])\n",
    "#Strength constraints\n",
    "h = np.array([3, 4, 5])\n",
    "#Initial guess\n",
    "x0 = np.array([0, 0])\n",
    "\n",
    "#Define objective function\n",
    "def objective_function(x):\n",
    "    return 0.5 * x @ Q @ x + p @ x\n",
    "\n",
    "#Define constraints\n",
    "def constraint(x):\n",
    "    return G @ x - h\n",
    "\n",
    "#Define optimization\n",
    "con = {'type': 'ineq', 'fun': constraint}\n",
    "b = (0,10); bnds = (b,b)\n",
    "opt = {'maxiter':1000}\n",
    "res = minimize(objective_function, x0,\n",
    "               constraints=con,bounds=bnds,\n",
    "               method='SLSQP',options=opt)\n",
    "\n",
    "#print results\n",
    "print(f'Optimal solution: x = {res.x}')\n",
    "print(f'Minimum weight = {res.fun}')"
   ]
  },
  {
   "cell_type": "markdown",
   "metadata": {},
   "source": [
    "Nonlinear Programming\n",
    "This problem has a nonlinear objective that must be minimized. The variable values at the optimal solution are subject to (s.t.) both equality (=40) and inequality (>=25) constraints. The product of the four variables must be greater than 25 while the sum of squares of the variables must also equal 40. In addition, all variables are constrained between 1 and 5 and the initial guess is x=[1,5,5,1]."
   ]
  },
  {
   "cell_type": "code",
   "execution_count": 10,
   "metadata": {},
   "outputs": [
    {
     "name": "stdout",
     "output_type": "stream",
     "text": [
      "Objective: 17.01401724563517\n",
      "Solution: [1.         4.7429961  3.82115462 1.37940765]\n"
     ]
    }
   ],
   "source": [
    "from scipy.optimize import minimize\n",
    "\n",
    "def objective(x):\n",
    "    return x[0]*x[3]*(x[0]+x[1]+x[2])+x[2]\n",
    "\n",
    "def constraint1(x):\n",
    "    return x[0]*x[1]*x[2]*x[3]-25.0\n",
    "\n",
    "def constraint2(x):\n",
    "    sum_eq = 40.0\n",
    "    for i in range(4):\n",
    "        sum_eq = sum_eq - x[i]**2\n",
    "    return sum_eq\n",
    "\n",
    "#initial guesses\n",
    "x0 = [1,5,5,1]\n",
    "\n",
    "#optimize\n",
    "b = (1.0,5.0)\n",
    "bnds = (b, b, b, b)\n",
    "con1 = {'type': 'ineq', 'fun': constraint1}\n",
    "con2 = {'type': 'eq', 'fun': constraint2}\n",
    "cons = ([con1,con2])\n",
    "solution = minimize(objective,x0,method='SLSQP',\\\n",
    "                    bounds=bnds,constraints=cons)\n",
    "x = solution.x\n",
    "\n",
    "#print solution\n",
    "print('Objective: ' + str(objective(x)))\n",
    "print('Solution:',x)"
   ]
  }
 ],
 "metadata": {
  "kernelspec": {
   "display_name": ".venv",
   "language": "python",
   "name": "python3"
  },
  "language_info": {
   "codemirror_mode": {
    "name": "ipython",
    "version": 3
   },
   "file_extension": ".py",
   "mimetype": "text/x-python",
   "name": "python",
   "nbconvert_exporter": "python",
   "pygments_lexer": "ipython3",
   "version": "3.11.0"
  },
  "orig_nbformat": 4
 },
 "nbformat": 4,
 "nbformat_minor": 2
}
